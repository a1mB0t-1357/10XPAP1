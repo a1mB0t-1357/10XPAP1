{
 "cells": [
  {
   "cell_type": "code",
   "execution_count": 1,
   "id": "726a328a",
   "metadata": {},
   "outputs": [
    {
     "data": {
      "text/plain": [
       "str"
      ]
     },
     "execution_count": 1,
     "metadata": {},
     "output_type": "execute_result"
    }
   ],
   "source": [
    "name=\"Ayaan\"\n",
    "type(name)"
   ]
  },
  {
   "cell_type": "code",
   "execution_count": 15,
   "id": "ed010bf6",
   "metadata": {},
   "outputs": [
    {
     "name": "stdout",
     "output_type": "stream",
     "text": [
      "What is your name?: ayaan\n",
      "What is your age?: 14\n",
      "Do you have an alter ego?True or False: true\n",
      "What is your happiness level?: 100\n",
      "Can you fly?: no\n",
      "so your name is\n",
      "ayaan\n",
      "you are years\n",
      "14\n",
      "True\n",
      "Your happiness level is\n",
      "100\n",
      "no\n"
     ]
    }
   ],
   "source": [
    "name = str(input(\"What is your name?: \"))\n",
    "age = int(input(\"What is your age?: \"))\n",
    "ego = bool(input(\"Do you have an alter ego?True or False: \"))\n",
    "percent_of_happiness = int(input(\"What is your happiness level?: \"))\n",
    "Flight_capacity=str(input(\"Can you fly?: \"))\n",
    "print(\"so your name is\")\n",
    "print(name)\n",
    "print(\"you are years\")\n",
    "print(age)\n",
    "print(ego)\n",
    "print(\"Your happiness level is\")\n",
    "print(percent_of_happiness)\n",
    "print(Flight_capacity)"
   ]
  },
  {
   "cell_type": "code",
   "execution_count": 11,
   "id": "0eff2b4d",
   "metadata": {},
   "outputs": [
    {
     "data": {
      "text/plain": [
       "int"
      ]
     },
     "execution_count": 11,
     "metadata": {},
     "output_type": "execute_result"
    }
   ],
   "source": [
    "type(percent_of_happiness)"
   ]
  },
  {
   "cell_type": "code",
   "execution_count": 12,
   "id": "c2aaf5f0",
   "metadata": {},
   "outputs": [
    {
     "data": {
      "text/plain": [
       "str"
      ]
     },
     "execution_count": 12,
     "metadata": {},
     "output_type": "execute_result"
    }
   ],
   "source": [
    "type(Flight_capacity)"
   ]
  },
  {
   "cell_type": "code",
   "execution_count": 5,
   "id": "56a113e8",
   "metadata": {},
   "outputs": [
    {
     "data": {
      "text/plain": [
       "bool"
      ]
     },
     "execution_count": 5,
     "metadata": {},
     "output_type": "execute_result"
    }
   ],
   "source": [
    "type(ego)"
   ]
  },
  {
   "cell_type": "code",
   "execution_count": 6,
   "id": "3c8342f1",
   "metadata": {},
   "outputs": [
    {
     "data": {
      "text/plain": [
       "str"
      ]
     },
     "execution_count": 6,
     "metadata": {},
     "output_type": "execute_result"
    }
   ],
   "source": [
    "type(name)"
   ]
  },
  {
   "cell_type": "code",
   "execution_count": 7,
   "id": "0e8c91ab",
   "metadata": {},
   "outputs": [
    {
     "data": {
      "text/plain": [
       "int"
      ]
     },
     "execution_count": 7,
     "metadata": {},
     "output_type": "execute_result"
    }
   ],
   "source": [
    "type(age)"
   ]
  },
  {
   "cell_type": "code",
   "execution_count": 3,
   "id": "b611b687",
   "metadata": {},
   "outputs": [
    {
     "name": "stdout",
     "output_type": "stream",
     "text": [
      "Enter the base power(kW);40\n",
      "Enter the charge percent from 0% to 100%;90\n",
      "The actual power is 36.0 kW\n"
     ]
    }
   ],
   "source": [
    "#Repulsor Blast Power Calculation\n",
    "base_power=float(input(\"Enter the base power(kW);\"))\n",
    "charge_percent=float(input(\"Enter the charge percent from 0% to 100%;\"))\n",
    "actual_power=base_power*(charge_percent/100)\n",
    "print(\"The actual power is\",actual_power,\"kW\")"
   ]
  },
  {
   "cell_type": "code",
   "execution_count": null,
   "id": "5bc96a68",
   "metadata": {},
   "outputs": [],
   "source": [
    "#Repulsor Blast Damage Calcuation\n",
    "damage=float(input(\"Enter the total power\"))\n",
    "charge=float(input(\"Enter the charge\"))\n",
    "blast_damage="
   ]
  },
  {
   "cell_type": "code",
   "execution_count": 15,
   "id": "6e8717dc",
   "metadata": {},
   "outputs": [
    {
     "name": "stdout",
     "output_type": "stream",
     "text": [
      "['missiles', 'unibeam', 'lasers', 'resulsors']\n",
      "Stark Industries\n",
      "['Whiplash', 'Mandrian', 'Obadiah Stane', 'Justin Hammer', 'Crimson Dynamo']\n",
      "['Mandrian', 'Obadiah Stane', 'Justin Hammer', 'Crimson Dynamo', 'Thanos']\n",
      "['Mandrian', 'Obadiah Stane', 'Justin Hammer', 'Crimson Dynamo', 'Thanos', 'Ultron']\n",
      "['Arc reactor', 'JARVIS AI']\n",
      "['Arc reactor', 'JARVIS AI', 'Friday AI', 'Iron Man suit']\n",
      "1\n"
     ]
    }
   ],
   "source": [
    "weapons=[\"missiles\",\"unibeam\",\"lasers\",\"resulsors\"]\n",
    "print(weapons)\n",
    "work=[\"Stark Industries\",\"SHEILD\",\"Avengers\"]\n",
    "print(work[0])\n",
    "enemies=[\"Whiplash\",\"Mandrian\",\"Obadiah Stane\",\"Justin Hammer\",\"Crimson Dynamo\"]\n",
    "print(enemies)\n",
    "enemies.append(\"Thanos\")\n",
    "enemies.remove(\"Whiplash\")\n",
    "print(enemies)\n",
    "enemies.append(\"Ultron\")\n",
    "print(enemies)\n",
    "invention=[\"Arc reactor\",\"JARVIS AI\"]\n",
    "print(invention)\n",
    "invention.append(\"Friday AI\")\n",
    "invention.append(\"Iron Man suit\")\n",
    "print(invention)\n",
    "print(invention.index(\"JARVIS AI\"))\n"
   ]
  },
  {
   "cell_type": "code",
   "execution_count": 27,
   "id": "c5a78dd2",
   "metadata": {},
   "outputs": [
    {
     "name": "stdout",
     "output_type": "stream",
     "text": [
      "70\n",
      "-30\n",
      "1000\n",
      "0.4\n",
      "0\n"
     ]
    }
   ],
   "source": [
    "a=20\n",
    "b=50\n",
    "c=a+b\n",
    "d=a-b\n",
    "e=a*b\n",
    "f=a/b\n",
    "print(c)\n",
    "print(d)\n",
    "print(e)\n",
    "print(f)\n",
    "answers=[\"c\",\"d\",\"e\",\"f\"]\n",
    "print(answers.index(\"c\"))\n"
   ]
  },
  {
   "cell_type": "code",
   "execution_count": 5,
   "id": "7279cde5",
   "metadata": {},
   "outputs": [
    {
     "name": "stdout",
     "output_type": "stream",
     "text": [
      "Enter your year of birth1976\n",
      "Enter the current year2023\n",
      "You are 47 years old\n"
     ]
    }
   ],
   "source": [
    "#To ditermine the age of a person\n",
    "year_of_birth=int(input(\"Enter your year of birth\"))\n",
    "current_year=int(input(\"Enter the current year\"))\n",
    "age=(current_year-year_of_birth)\n",
    "print(\"You are\",age,\"years old\")"
   ]
  },
  {
   "cell_type": "markdown",
   "id": "a0f03ab3",
   "metadata": {},
   "source": []
  },
  {
   "cell_type": "code",
   "execution_count": 9,
   "id": "94c4e65b",
   "metadata": {},
   "outputs": [
    {
     "name": "stdout",
     "output_type": "stream",
     "text": [
      "{'mission1': 'Save new york', 'mission2': 'defeat THANOS'}\n",
      "{'hello': 'hello i am jarvis', 'how are you': 'i am unable to answer that'}\n",
      "{'hello': 'hello i am jarvis', 'how are you': 'i am unable to answer that', 'repulsor': 'shoot'}\n",
      "hello i am jarvis\n",
      "<class 'dict'>\n",
      "3\n",
      "{'hello': 'hi', 'how are you': 'i am unable to answer that', 'repulsor': 'shoot'}\n"
     ]
    },
    {
     "data": {
      "text/plain": [
       "'shoot'"
      ]
     },
     "execution_count": 9,
     "metadata": {},
     "output_type": "execute_result"
    }
   ],
   "source": [
    "mission_list={\"mission1\":\"Save new york\",\"mission2\":\"defeat THANOS\"}\n",
    "print(mission_list)\n",
    "response={\"hello\":\"hello i am jarvis\",\"how are you\":\"i am unable to answer that\"}\n",
    "print(response)\n",
    "response[\"repulsor\"]=\"shoot\"\n",
    "print(response)\n",
    "print(response[\"hello\"])\n",
    "print(type(response))\n",
    "print(len(response))\n",
    "response[\"hello\"]=\"hi\"\n",
    "print(response)\n",
    "response.pop(\"repulsor\")\n"
   ]
  },
  {
   "cell_type": "code",
   "execution_count": 11,
   "id": "bb71cf2e",
   "metadata": {},
   "outputs": [
    {
     "name": "stdout",
     "output_type": "stream",
     "text": [
      "{'Alice': ['Math', 'Science', 'History']}\n"
     ]
    }
   ],
   "source": [
    "student_subject={\"Alice\":[\"Math\",\"Science\",\"History\"]}\n",
    "print(student_subject)"
   ]
  },
  {
   "cell_type": "code",
   "execution_count": 27,
   "id": "4d4b629a",
   "metadata": {},
   "outputs": [
    {
     "name": "stdout",
     "output_type": "stream",
     "text": [
      "Enter your marks maximum 15: 10\n",
      "you pass\n"
     ]
    }
   ],
   "source": [
    "marks=float(input(\"Enter your marks maximum 15: \"))\n",
    "num=6.5\n",
    "if num>marks:\n",
    "    print(\"You fail\")\n",
    "else:\n",
    "    print(\"you pass\")"
   ]
  },
  {
   "cell_type": "code",
   "execution_count": 34,
   "id": "b8d772e4",
   "metadata": {},
   "outputs": [
    {
     "name": "stdout",
     "output_type": "stream",
     "text": [
      "Enter a number: 8\n",
      "no. is positive\n"
     ]
    }
   ],
   "source": [
    "#To ditermine if a number is positive or negative or zero\n",
    "num=float(input(\"Enter a number: \"))\n",
    "if num<0:\n",
    "    print(\"no. is negative\")\n",
    "elif num>0:\n",
    "    print(\"no. is positive\")\n",
    "elif num==0:\n",
    "    print(\"no. is zero\")"
   ]
  },
  {
   "cell_type": "code",
   "execution_count": 66,
   "id": "359d0eb9",
   "metadata": {},
   "outputs": [
    {
     "name": "stdout",
     "output_type": "stream",
     "text": [
      "This is a detection system\n",
      "Enter your name: thAnos\n",
      "Potential Invasion  BE AWARE\n"
     ]
    }
   ],
   "source": [
    "print(\"This is a detection system\")\n",
    "enemy=(input(\"Enter your name: \"))\n",
    "if enemy.lower()==(\"thanos\"or\"mandrian\"):\n",
    "    print(\"Potential Invasion  BE AWARE\")\n",
    "elif enemy==\"iron man\":\n",
    "    print(\"Welcome Sir\")\n",
    "else : \n",
    "    print(\"Friendly\")"
   ]
  },
  {
   "cell_type": "code",
   "execution_count": 86,
   "id": "c49c11cb",
   "metadata": {},
   "outputs": [
    {
     "name": "stdout",
     "output_type": "stream",
     "text": [
      "This is a suit analyzes \n",
      "Enter power level: 10\n",
      "Enter battery level: 10\n",
      "Recharge or Potential shut down of suit\n"
     ]
    }
   ],
   "source": [
    "print(\"This is a suit analyzes \")\n",
    "power=int(input(\"Enter power level: \"))\n",
    "battery=int(input(\"Enter battery level: \"))\n",
    "if (battery>80 and power>70):\n",
    "    print(\"Capable of shooting chest repulsor\")\n",
    "elif ((battery<80 and battery<15) and (power>70 and power>10)):\n",
    "    print(\"Uncapable of shooting chest repulsor\")\n",
    "elif (battery<15 and power<=10):\n",
    "    print(\"Recharge or Potential shut down of suit\")"
   ]
  },
  {
   "cell_type": "code",
   "execution_count": null,
   "id": "4dea361f",
   "metadata": {},
   "outputs": [],
   "source": [
    "#To find leap year\n",
    "year=int(input(\"Enter the current year\"))\n",
    "\n",
    "if year/4:\n",
    "    print(year,\"is a leap year\")\n",
    "    \n",
    "else:\n",
    "    print(year,\"is not a leap year\")"
   ]
  },
  {
   "cell_type": "code",
   "execution_count": null,
   "id": "c425eaec",
   "metadata": {},
   "outputs": [],
   "source": []
  },
  {
   "cell_type": "code",
   "execution_count": null,
   "id": "f6dcaca1",
   "metadata": {},
   "outputs": [],
   "source": []
  },
  {
   "cell_type": "code",
   "execution_count": null,
   "id": "2d6e00da",
   "metadata": {},
   "outputs": [],
   "source": []
  }
 ],
 "metadata": {
  "kernelspec": {
   "display_name": "Python 3 (ipykernel)",
   "language": "python",
   "name": "python3"
  },
  "language_info": {
   "codemirror_mode": {
    "name": "ipython",
    "version": 3
   },
   "file_extension": ".py",
   "mimetype": "text/x-python",
   "name": "python",
   "nbconvert_exporter": "python",
   "pygments_lexer": "ipython3",
   "version": "3.11.5"
  }
 },
 "nbformat": 4,
 "nbformat_minor": 5
}
