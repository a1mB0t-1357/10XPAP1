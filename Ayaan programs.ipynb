{
 "cells": [
  {
   "cell_type": "code",
   "execution_count": 12,
   "id": "829a6833",
   "metadata": {},
   "outputs": [
    {
     "name": "stdout",
     "output_type": "stream",
     "text": [
      "Enter the current year: -400\n",
      "Year not supported\n"
     ]
    }
   ],
   "source": [
    "#To find leap year\n",
    "year=int(input(\"Enter the current year: \"))\n",
    "if year<0:\n",
    "    print(\"Year not supported\")\n",
    "\n",
    "elif year<9999 and year%4==0:\n",
    "    print(year,\"is a leap year\")\n",
    "    \n",
    "else:\n",
    "    print(year,\"is not a leap year\")"
   ]
  },
  {
   "cell_type": "code",
   "execution_count": 24,
   "id": "3e01c843",
   "metadata": {},
   "outputs": [
    {
     "name": "stdout",
     "output_type": "stream",
     "text": [
      "Enter your weight45\n",
      "Enter your height in meters1.6\n",
      "Enter your gendermale\n",
      "Your bmi is 17.578124999999996\n",
      "You are underweight\n"
     ]
    }
   ],
   "source": [
    "#To calculate weight\n",
    "weight=float(input(\"Enter your weight: \"))\n",
    "height=float(input(\"Enter your height in meters: \"))\n",
    "gender=str(input(\"Enter your gender: \"))\n",
    "bmi=weight/(height*height)\n",
    "print(\"Your bmi is\",bmi)\n",
    "\n",
    "if gender==\"female\" and bmi<18.5:\n",
    "    print(\"You are underweight\")\n",
    "    \n",
    "elif gender==\"female\" and bmi>18.5 and bmi<24.9:\n",
    "    print(\"You are normal weight\")\n",
    "    \n",
    "elif gender==\"female\" and bmi>25.0 and bmi<29.9:\n",
    "    print(\"You are overweight\")\n",
    "    \n",
    "elif gender==\"female\" and bmi>30.0:\n",
    "    print(\"You are obese\")\n",
    "\n",
    "elif gender==\"male\" and bmi<18.5:\n",
    "    print(\"You are underweight\")\n",
    "    \n",
    "elif gender==\"male\" and bmi>18.5 and bmi<24.9:\n",
    "    print(\"You are normal weight\")\n",
    "    \n",
    "elif gender==\"male\" and bmi>25.0 and bmi<29.9:\n",
    "    print(\"You are overweight\")\n",
    "    \n",
    "elif gender==\"male\" and bmi>30.0:\n",
    "    print(\"You are obese\")\n",
    "    \n",
    "else:\n",
    "    print(\"You are undefined\")"
   ]
  },
  {
   "cell_type": "code",
   "execution_count": 38,
   "id": "6fd608e3",
   "metadata": {},
   "outputs": [
    {
     "name": "stdout",
     "output_type": "stream",
     "text": [
      "Enter the day number: 8\n",
      "Day unavailable in history of mankind unless you live in different universe\n"
     ]
    }
   ],
   "source": [
    "daynum=int(input(\"Enter the day number: \"))\n",
    "day={1:\"Monday\",2:\"Tuesday\",3:\"Wednesday\",4:\"Thursday\",5:\"Friday\",6:\"Saturday\",7:\"Sunday\"}\n",
    "if daynum==1:\n",
    "    print(day[1])\n",
    "    \n",
    "elif daynum==2:\n",
    "    print(day[2])\n",
    "\n",
    "elif daynum==3:\n",
    "    print(day[3])\n",
    "    \n",
    "elif daynum==4:\n",
    "    print(day[4])\n",
    "    \n",
    "elif daynum==5:\n",
    "    print(day[5])\n",
    "    \n",
    "elif daynum==6:\n",
    "    print(day[6])\n",
    "    \n",
    "elif daynum==7:\n",
    "    print(day[7])\n",
    "    \n",
    "elif daynum>7:\n",
    "    print(\"Day unavailable in history of mankind unless you live in different universe\")"
   ]
  },
  {
   "cell_type": "code",
   "execution_count": 42,
   "id": "c5f52bc7",
   "metadata": {},
   "outputs": [
    {
     "name": "stdout",
     "output_type": "stream",
     "text": [
      "Enter the day number: 6\n",
      "Saturday\n"
     ]
    }
   ],
   "source": [
    "\n",
    "day=[\"Monday\",\"Tuesday\",\"Wednesday\",\"Thursday\",\"Friday\",\"Saturday\",\"Sunday\"]\n",
    "daynum=int(input(\"Enter the day number: \"))\n",
    "print(day[daynum-1])\n"
   ]
  },
  {
   "cell_type": "code",
   "execution_count": 46,
   "id": "ce765b64",
   "metadata": {},
   "outputs": [
    {
     "ename": "SyntaxError",
     "evalue": "invalid syntax (326643102.py, line 3)",
     "output_type": "error",
     "traceback": [
      "\u001b[0;36m  Cell \u001b[0;32mIn[46], line 3\u001b[0;36m\u001b[0m\n\u001b[0;31m    if enter==vowel[]:\u001b[0m\n\u001b[0m                    ^\u001b[0m\n\u001b[0;31mSyntaxError\u001b[0m\u001b[0;31m:\u001b[0m invalid syntax\n"
     ]
    }
   ],
   "source": [
    "vowel=[\"a\",\"e\",\"i\",\"o\",\"u\"]\n",
    "enter=str(input(\"Enter a alphabet: \"))\n",
    "if enter==vowel[]:\n",
    "    print(\"It is a vowel\")\n",
    "else:\n",
    "    print(\"It is a constant\")"
   ]
  },
  {
   "cell_type": "code",
   "execution_count": 3,
   "id": "39565b99",
   "metadata": {},
   "outputs": [
    {
     "ename": "Terminator",
     "evalue": "",
     "output_type": "error",
     "traceback": [
      "\u001b[0;31m---------------------------------------------------------------------------\u001b[0m",
      "\u001b[0;31mTerminator\u001b[0m                                Traceback (most recent call last)",
      "Cell \u001b[0;32mIn[3], line 5\u001b[0m\n\u001b[1;32m      3\u001b[0m screen \u001b[38;5;241m=\u001b[39m Screen()\n\u001b[1;32m      4\u001b[0m screen\u001b[38;5;241m.\u001b[39mbgcolor(\u001b[38;5;241m0\u001b[39m, \u001b[38;5;241m0\u001b[39m, \u001b[38;5;241m0\u001b[39m)\n\u001b[0;32m----> 5\u001b[0m turtle\u001b[38;5;241m.\u001b[39mspeed(\u001b[38;5;241m0\u001b[39m)\n\u001b[1;32m      6\u001b[0m \u001b[38;5;28;01mfor\u001b[39;00m i \u001b[38;5;129;01min\u001b[39;00m \u001b[38;5;28mrange\u001b[39m(\u001b[38;5;241m15\u001b[39m):\n\u001b[1;32m      7\u001b[0m   turtle\u001b[38;5;241m.\u001b[39mpencolor(\u001b[38;5;241m0\u001b[39m, \u001b[38;5;241m255\u001b[39m, \u001b[38;5;241m0\u001b[39m)\n",
      "File \u001b[0;32m~/anaconda3/lib/python3.11/turtle.py:2175\u001b[0m, in \u001b[0;36mTPen.speed\u001b[0;34m(self, speed)\u001b[0m\n\u001b[1;32m   2173\u001b[0m \u001b[38;5;28;01melse\u001b[39;00m:\n\u001b[1;32m   2174\u001b[0m     speed \u001b[38;5;241m=\u001b[39m \u001b[38;5;241m0\u001b[39m\n\u001b[0;32m-> 2175\u001b[0m \u001b[38;5;28mself\u001b[39m\u001b[38;5;241m.\u001b[39mpen(speed\u001b[38;5;241m=\u001b[39mspeed)\n",
      "File \u001b[0;32m~/anaconda3/lib/python3.11/turtle.py:2460\u001b[0m, in \u001b[0;36mTPen.pen\u001b[0;34m(self, pen, **pendict)\u001b[0m\n\u001b[1;32m   2457\u001b[0m     sa, ca \u001b[38;5;241m=\u001b[39m math\u001b[38;5;241m.\u001b[39msin(\u001b[38;5;28mself\u001b[39m\u001b[38;5;241m.\u001b[39m_tilt), math\u001b[38;5;241m.\u001b[39mcos(\u001b[38;5;28mself\u001b[39m\u001b[38;5;241m.\u001b[39m_tilt)\n\u001b[1;32m   2458\u001b[0m     \u001b[38;5;28mself\u001b[39m\u001b[38;5;241m.\u001b[39m_shapetrafo \u001b[38;5;241m=\u001b[39m ( scx\u001b[38;5;241m*\u001b[39mca, scy\u001b[38;5;241m*\u001b[39m(shf\u001b[38;5;241m*\u001b[39mca \u001b[38;5;241m+\u001b[39m sa),\n\u001b[1;32m   2459\u001b[0m                         \u001b[38;5;241m-\u001b[39mscx\u001b[38;5;241m*\u001b[39msa, scy\u001b[38;5;241m*\u001b[39m(ca \u001b[38;5;241m-\u001b[39m shf\u001b[38;5;241m*\u001b[39msa))\n\u001b[0;32m-> 2460\u001b[0m \u001b[38;5;28mself\u001b[39m\u001b[38;5;241m.\u001b[39m_update()\n",
      "File \u001b[0;32m~/anaconda3/lib/python3.11/turtle.py:2661\u001b[0m, in \u001b[0;36mRawTurtle._update\u001b[0;34m(self)\u001b[0m\n\u001b[1;32m   2659\u001b[0m     \u001b[38;5;28;01mreturn\u001b[39;00m\n\u001b[1;32m   2660\u001b[0m \u001b[38;5;28;01melif\u001b[39;00m screen\u001b[38;5;241m.\u001b[39m_tracing \u001b[38;5;241m==\u001b[39m \u001b[38;5;241m1\u001b[39m:\n\u001b[0;32m-> 2661\u001b[0m     \u001b[38;5;28mself\u001b[39m\u001b[38;5;241m.\u001b[39m_update_data()\n\u001b[1;32m   2662\u001b[0m     \u001b[38;5;28mself\u001b[39m\u001b[38;5;241m.\u001b[39m_drawturtle()\n\u001b[1;32m   2663\u001b[0m     screen\u001b[38;5;241m.\u001b[39m_update()                  \u001b[38;5;66;03m# TurtleScreenBase\u001b[39;00m\n",
      "File \u001b[0;32m~/anaconda3/lib/python3.11/turtle.py:2647\u001b[0m, in \u001b[0;36mRawTurtle._update_data\u001b[0;34m(self)\u001b[0m\n\u001b[1;32m   2646\u001b[0m \u001b[38;5;28;01mdef\u001b[39;00m \u001b[38;5;21m_update_data\u001b[39m(\u001b[38;5;28mself\u001b[39m):\n\u001b[0;32m-> 2647\u001b[0m     \u001b[38;5;28mself\u001b[39m\u001b[38;5;241m.\u001b[39mscreen\u001b[38;5;241m.\u001b[39m_incrementudc()\n\u001b[1;32m   2648\u001b[0m     \u001b[38;5;28;01mif\u001b[39;00m \u001b[38;5;28mself\u001b[39m\u001b[38;5;241m.\u001b[39mscreen\u001b[38;5;241m.\u001b[39m_updatecounter \u001b[38;5;241m!=\u001b[39m \u001b[38;5;241m0\u001b[39m:\n\u001b[1;32m   2649\u001b[0m         \u001b[38;5;28;01mreturn\u001b[39;00m\n",
      "File \u001b[0;32m~/anaconda3/lib/python3.11/turtle.py:1293\u001b[0m, in \u001b[0;36mTurtleScreen._incrementudc\u001b[0;34m(self)\u001b[0m\n\u001b[1;32m   1291\u001b[0m \u001b[38;5;28;01mif\u001b[39;00m \u001b[38;5;129;01mnot\u001b[39;00m TurtleScreen\u001b[38;5;241m.\u001b[39m_RUNNING:\n\u001b[1;32m   1292\u001b[0m     TurtleScreen\u001b[38;5;241m.\u001b[39m_RUNNING \u001b[38;5;241m=\u001b[39m \u001b[38;5;28;01mTrue\u001b[39;00m\n\u001b[0;32m-> 1293\u001b[0m     \u001b[38;5;28;01mraise\u001b[39;00m Terminator\n\u001b[1;32m   1294\u001b[0m \u001b[38;5;28;01mif\u001b[39;00m \u001b[38;5;28mself\u001b[39m\u001b[38;5;241m.\u001b[39m_tracing \u001b[38;5;241m>\u001b[39m \u001b[38;5;241m0\u001b[39m:\n\u001b[1;32m   1295\u001b[0m     \u001b[38;5;28mself\u001b[39m\u001b[38;5;241m.\u001b[39m_updatecounter \u001b[38;5;241m+\u001b[39m\u001b[38;5;241m=\u001b[39m \u001b[38;5;241m1\u001b[39m\n",
      "\u001b[0;31mTerminator\u001b[0m: "
     ]
    }
   ],
   "source": [
    "from turtle import *\n",
    "turtle = Turtle()\n",
    "screen = Screen()\n",
    "screen.bgcolor(0, 0, 0)\n",
    "turtle.speed(0)\n",
    "for i in range(15):\n",
    "  turtle.pencolor(0, 255, 0)\n",
    "  turtle.circle(70)\n",
    "  turtle.right(8)\n",
    "  turtle.pencolor(0, 0, 255)\n",
    "  turtle.circle(70)\n",
    "  turtle.right(8)\n",
    "  turtle.pencolor(255, 0, 0)\n",
    "  turtle.circle(70)\n",
    "  turtle.right(8)\n"
   ]
  },
  {
   "cell_type": "code",
   "execution_count": null,
   "id": "7311d5f0",
   "metadata": {},
   "outputs": [],
   "source": [
    "import turtle\n",
    "# Top Part\n",
    "piece1=[[(-40, 120), (-70, 260), (-130, 230), (-170, 200), (-170, 100), (-160, 40), (-170, 10), (-150, -10), (-140, 10), (-40, -20), (0, -20)],[(0, -20), (40, -20), (140, 10), (150, -10), (170, 10), (160, 40), (170, 100), (170, 200), (130, 230), (70, 260), (40, 120), (0, 120)]]\n",
    "# Middle Part\n",
    "piece2=[[(-40, -30), (-50, -40), (-100, -46), (-130, -40), (-176, 0), (-186, -30), (-186, -40), (-120, -170), (-110, -210), (-80, -230), (-64, -210), (0, -210)],[(0, -210), (64, -210), (80, -230), (110, -210), (120, -170), (186, -40), (186, -30), (176, 0), (130, -40), (100, -46), (50, -40), (40, -30), (0, -30)]]\n",
    "#Bottom Part\n",
    "piece3=[[(-60, -220), (-80, -240), (-110, -220), (-120, -250),(-90, -280), (-60, -260), (-30, -260), (-20, -250), (0, -250)],[(0, -250), (20, -250), (30, -260), (60, -260), (90, -280), (120, -250),(110, -220), (80, -240), (60, -220), (0, -220)]]\n",
    "turtle.hideturtle()\n",
    "turtle.bgcolor('#ba161e') #Dark Red\n",
    "turtle.setup(500,600)\n",
    "turtle.title(\"I AM IRONMAN\")\n",
    "piece1Goto=(0,120)\n",
    "piece2Goto=(0,-30)\n",
    "piece3Goto=(0,-220)\n",
    "turtle.speed(2)\n",
    "def draw_piece(piece,pieceGoto):\n",
    "    turtle.penup()\n",
    "    turtle.goto(pieceGoto)\n",
    "    turtle.pendown()\n",
    "    turtle.color('#fab104') #Light Yellow\n",
    "    turtle.begin_fill()\n",
    "    for i in range(len(piece[0])):\n",
    "        x,y=piece[0][i]\n",
    "        turtle.goto(x,y)\n",
    "    \n",
    "    for i in range(len(piece[1])):\n",
    "        x,y=piece[1][i]\n",
    "        turtle.goto(x,y)\n",
    "    turtle.end_fill()\n",
    "draw_piece(piece1,piece1Goto)\n",
    "draw_piece(piece2,piece2Goto)\n",
    "draw_piece(piece3,piece3Goto)\n",
    "turtle.hideturtle()\n",
    "turtle.done()\n"
   ]
  },
  {
   "cell_type": "code",
   "execution_count": 1,
   "id": "948d4157",
   "metadata": {},
   "outputs": [],
   "source": [
    "import turtle\n",
    "\n",
    "t=turtle.Turtle()\n",
    "\n",
    "t.getscreen().bgcolor(\"#FEFBF6\")\n",
    "t.pencolor(\"black\")\n",
    "t.speed(4)\n",
    "\n",
    "t.color(\"#E82127\")\n",
    "t.penup()\n",
    "t.goto(-160,160)\n",
    "t.pendown()\n",
    "\n",
    "t.begin_fill()\n",
    "t.left(18)\n",
    "t.circle(-500,40)\n",
    "t.right(90)\n",
    "t.forward(17)\n",
    "\n",
    "t.right(89.5)\n",
    "t.circle(500,39)\n",
    "t.right(90)\n",
    "t.forward(17)\n",
    "t.end_fill()\n"
   ]
  },
  {
   "cell_type": "code",
   "execution_count": null,
   "id": "91a222e7",
   "metadata": {},
   "outputs": [],
   "source": [
    "import turtle\n",
    "\n",
    "tur = turtle.Turtle()\n",
    "\n",
    "tur.getscreen().bgcolor(\"red\")\n",
    "tur.pencolor(\"black\")\n",
    "\n",
    "tur.speed(10)\n",
    "\n",
    "tur.color(\"white\")\n",
    "tur.penup()\n",
    "tur.goto(-160,160)\n",
    "tur.pendown()\n",
    "\n",
    "tur.begin_fill()\n",
    "tur.left(18)\n",
    "tur.circle(-500,40)\n",
    "tur.right(90)\n",
    "tur.forward(17)\n",
    "\n",
    "tur.right(89.5)\n",
    "tur.circle(500,39)\n",
    "tur.right(90)\n",
    "tur.forward(17)\n",
    "tur.end_fill()\n",
    "\n",
    "\n",
    "tur.penup()\n",
    "tur.goto(-155,133)\n",
    "tur.pendown()\n",
    "\n",
    "tur.begin_fill()\n",
    "tur.right(90.5)\n",
    "tur.circle(-500,38)\n",
    "tur.right(70)\n",
    "tur.circle(-30,80)\n",
    "tur.left(90)\n",
    "tur.circle(-20,-70)\n",
    "tur.right(10)\n",
    "tur.circle(-300,-15)\n",
    "tur.right(93)\n",
    "tur.forward(280)\n",
    "tur.right(160)\n",
    "tur.forward(280)\n",
    "tur.left(80)\n",
    "tur.circle(300,15)\n",
    "tur.circle(20,70)\n",
    "tur.left(80)\n",
    "tur.circle(30,-80)\n",
    "tur.end_fill()\n",
    "\n",
    "tur.penup()\n",
    "tur.goto(-20,155)\n",
    "tur.pendown()\n",
    "tur.pencolor(\"black\")\n",
    "tur.color(\"red\")\n",
    "tur.begin_fill()\n",
    "tur.left(30)\n",
    "tur.forward(60)\n",
    "tur.left(130)\n",
    "tur.forward(65)\n",
    "tur.end_fill()\n",
    "\n",
    "turtle.done()"
   ]
  },
  {
   "cell_type": "code",
   "execution_count": null,
   "id": "b6005459",
   "metadata": {},
   "outputs": [
    {
     "name": "stdout",
     "output_type": "stream",
     "text": [
      "Painting the Cartoon... \n"
     ]
    }
   ],
   "source": [
    "import turtle\n",
    "\n",
    "\n",
    "def setup(x, y):\n",
    "    turtle.setx(x)\n",
    "    turtle.sety(y)\n",
    "    print(x, y)\n",
    "\n",
    "\n",
    "class Draw_Pikachu:\n",
    "\n",
    "    def __init__(self):\n",
    "        self.t = turtle.Turtle()\n",
    "        t = self.t\n",
    "        t.pensize(3)\n",
    "        t.speed(9)\n",
    "        t.ondrag(setup)\n",
    "\n",
    "    def meme(self, x, y):\n",
    "        self.t.penup()\n",
    "        self.t.goto(x, y)\n",
    "        self.t.pendown()\n",
    "\n",
    "    def aankha1(self, x, y):\n",
    "        self.meme(x, y)\n",
    "        t = self.t\n",
    "        t.seth(0)\n",
    "        t.fillcolor('#333333')\n",
    "        t.begin_fill()\n",
    "        t.circle(22)\n",
    "        t.end_fill()\n",
    "\n",
    "        self.meme(x, y + 10)\n",
    "        t.fillcolor('#000000')\n",
    "        t.begin_fill()\n",
    "        t.circle(10)\n",
    "        t.end_fill()\n",
    "\n",
    "        self.meme(x + 6, y + 22)\n",
    "        t.fillcolor('#ffffff')\n",
    "        t.begin_fill()\n",
    "        t.circle(10)\n",
    "        t.end_fill()\n",
    "\n",
    "    def aankha2(self, x, y):\n",
    "        self.meme(x, y)\n",
    "        t = self.t\n",
    "        t.seth(0)\n",
    "        t.fillcolor('#333333')\n",
    "        t.begin_fill()\n",
    "        t.circle(22)\n",
    "        t.end_fill()\n",
    "\n",
    "        self.meme(x, y + 10)\n",
    "        t.fillcolor('#000000')\n",
    "        t.begin_fill()\n",
    "        t.circle(10)\n",
    "        t.end_fill()\n",
    "\n",
    "        self.meme(x - 6, y + 22)\n",
    "        t.fillcolor('#ffffff')\n",
    "        t.begin_fill()\n",
    "        t.circle(10)\n",
    "        t.end_fill()\n",
    "\n",
    "    def mukh(self, x, y):\n",
    "        self.meme(x, y)\n",
    "        t = self.t\n",
    "\n",
    "        t.fillcolor('#88141D')\n",
    "        t.begin_fill()\n",
    "        #\n",
    "        l1 = []\n",
    "        l2 = []\n",
    "        t.seth(190)\n",
    "        a = 0.7\n",
    "        for i in range(28):\n",
    "            a += 0.1\n",
    "            t.right(3)\n",
    "            t.fd(a)\n",
    "            l1.append(t.position())\n",
    "\n",
    "        self.meme(x, y)\n",
    "\n",
    "        t.seth(10)\n",
    "        a = 0.7\n",
    "        for i in range(28):\n",
    "            a += 0.1\n",
    "            t.left(3)\n",
    "            t.fd(a)\n",
    "            l2.append(t.position())\n",
    "\n",
    "        #\n",
    "\n",
    "        t.seth(10)\n",
    "        t.circle(50, 15)\n",
    "        t.left(180)\n",
    "        t.circle(-50, 15)\n",
    "\n",
    "        t.circle(-50, 40)\n",
    "        t.seth(233)\n",
    "        t.circle(-50, 55)\n",
    "        t.left(180)\n",
    "        t.circle(50, 12.1)\n",
    "        t.end_fill()\n",
    "\n",
    "        #\n",
    "        self.meme(17, 54)\n",
    "        t.fillcolor('#DD716F')\n",
    "        t.begin_fill()\n",
    "        t.seth(145)\n",
    "        t.circle(40, 86)\n",
    "        t.penup()\n",
    "        for pos in reversed(l1[:20]):\n",
    "            t.goto(pos[0], pos[1] + 1.5)\n",
    "        for pos in l2[:20]:\n",
    "            t.goto(pos[0], pos[1] + 1.5)\n",
    "        t.pendown()\n",
    "        t.end_fill()\n",
    "\n",
    "        #\n",
    "        self.meme(-17, 94)\n",
    "        t.seth(8)\n",
    "        t.fd(4)\n",
    "        t.back(8)\n",
    "\n",
    "    #\n",
    "    def gaala1(self, x, y):\n",
    "        turtle.tracer(False)\n",
    "        t = self.t\n",
    "        self.meme(x, y)\n",
    "        t.seth(300)\n",
    "        t.fillcolor('#DD4D28')\n",
    "        t.begin_fill()\n",
    "        a = 2.3\n",
    "        for i in range(120):\n",
    "            if 0 <= i < 30 or 60 <= i < 90:\n",
    "                a -= 0.05\n",
    "                t.lt(3)\n",
    "                t.fd(a)\n",
    "            else:\n",
    "                a += 0.05\n",
    "                t.lt(3)\n",
    "                t.fd(a)\n",
    "        t.end_fill()\n",
    "        turtle.tracer(True)\n",
    "\n",
    "    def gaala2(self, x, y):\n",
    "        t = self.t\n",
    "        turtle.tracer(False)\n",
    "        self.meme(x, y)\n",
    "        t.seth(60)\n",
    "        t.fillcolor('#DD4D28')\n",
    "        t.begin_fill()\n",
    "        a = 2.3\n",
    "        for i in range(120):\n",
    "            if 0 <= i < 30 or 60 <= i < 90:\n",
    "                a -= 0.05\n",
    "                t.lt(3)\n",
    "                t.fd(a)\n",
    "            else:\n",
    "                a += 0.05\n",
    "                t.lt(3)\n",
    "                t.fd(a)\n",
    "        t.end_fill()\n",
    "        turtle.tracer(True)\n",
    "\n",
    "    def kaan1(self, x, y):\n",
    "        t = self.t\n",
    "        self.meme(x, y)\n",
    "        t.fillcolor('#000000')\n",
    "        t.begin_fill()\n",
    "        t.seth(330)\n",
    "        t.circle(100, 35)\n",
    "        t.seth(219)\n",
    "        t.circle(-300, 19)\n",
    "        t.seth(110)\n",
    "        t.circle(-30, 50)\n",
    "        t.circle(-300, 10)\n",
    "        t.end_fill()\n",
    "\n",
    "    def kaan2(self, x, y):\n",
    "        t = self.t\n",
    "        self.meme(x, y)\n",
    "        t.fillcolor('#000000')\n",
    "        t.begin_fill()\n",
    "        t.seth(300)\n",
    "        t.circle(-100, 30)\n",
    "        t.seth(35)\n",
    "        t.circle(300, 15)\n",
    "        t.circle(30, 50)\n",
    "        t.seth(190)\n",
    "        t.circle(300, 17)\n",
    "        t.end_fill()\n",
    "\n",
    "    def jiu(self):\n",
    "        t = self.t\n",
    "\n",
    "        t.fillcolor('#F6D02F')\n",
    "        t.begin_fill()\n",
    "        #\n",
    "        t.penup()\n",
    "        t.circle(130, 40)\n",
    "        t.pendown()\n",
    "        t.circle(100, 105)\n",
    "        t.left(180)\n",
    "        t.circle(-100, 5)\n",
    "\n",
    "        #\n",
    "        t.seth(20)\n",
    "        t.circle(300, 30)\n",
    "        t.circle(30, 50)\n",
    "        t.seth(190)\n",
    "        t.circle(300, 36)\n",
    "\n",
    "        #\n",
    "        t.seth(150)\n",
    "        t.circle(150, 70)\n",
    "\n",
    "        #\n",
    "        t.seth(200)\n",
    "        t.circle(300, 40)\n",
    "        t.circle(30, 50)\n",
    "        t.seth(20)\n",
    "        t.circle(300, 35)\n",
    "        # print(t.pos())\n",
    "\n",
    "        #\n",
    "        t.seth(240)\n",
    "        t.circle(105, 95)\n",
    "        t.left(180)\n",
    "        t.circle(-105, 5)\n",
    "\n",
    "        #\n",
    "        t.seth(210)\n",
    "        t.circle(500, 18)\n",
    "        t.seth(200)\n",
    "        t.fd(10)\n",
    "        t.seth(280)\n",
    "        t.fd(7)\n",
    "        t.seth(210)\n",
    "        t.fd(10)\n",
    "        t.seth(300)\n",
    "        t.circle(10, 80)\n",
    "        t.seth(220)\n",
    "        t.fd(10)\n",
    "        t.seth(300)\n",
    "        t.circle(10, 80)\n",
    "        t.seth(240)\n",
    "        t.fd(12)\n",
    "        t.seth(0)\n",
    "        t.fd(13)\n",
    "        t.seth(240)\n",
    "        t.circle(10, 70)\n",
    "        t.seth(10)\n",
    "        t.circle(10, 70)\n",
    "        t.seth(10)\n",
    "        t.circle(300, 18)\n",
    "\n",
    "        t.seth(75)\n",
    "        t.circle(500, 8)\n",
    "        t.left(180)\n",
    "        t.circle(-500, 15)\n",
    "        t.seth(250)\n",
    "        t.circle(100, 65)\n",
    "\n",
    "        #\n",
    "        t.seth(320)\n",
    "        t.circle(100, 5)\n",
    "        t.left(180)\n",
    "        t.circle(-100, 5)\n",
    "        t.seth(220)\n",
    "        t.circle(200, 20)\n",
    "        t.circle(20, 70)\n",
    "\n",
    "        t.seth(60)\n",
    "        t.circle(-100, 20)\n",
    "        t.left(180)\n",
    "        t.circle(100, 20)\n",
    "        t.seth(300)\n",
    "        t.circle(10, 70)\n",
    "\n",
    "        t.seth(60)\n",
    "        t.circle(-100, 20)\n",
    "        t.left(180)\n",
    "        t.circle(100, 20)\n",
    "        t.seth(10)\n",
    "        t.circle(100, 60)\n",
    "\n",
    "        #\n",
    "        t.seth(180)\n",
    "        t.circle(-100, 10)\n",
    "        t.left(180)\n",
    "        t.circle(100, 10)\n",
    "        t.seth(5)\n",
    "        t.circle(100, 10)\n",
    "        t.circle(-100, 40)\n",
    "        t.circle(100, 35)\n",
    "        t.left(180)\n",
    "        t.circle(-100, 10)\n",
    "\n",
    "        #\n",
    "        t.seth(290)\n",
    "        t.circle(100, 55)\n",
    "        t.circle(10, 50)\n",
    "\n",
    "        t.seth(120)\n",
    "        t.circle(100, 20)\n",
    "        t.left(180)\n",
    "        t.circle(-100, 20)\n",
    "\n",
    "        t.seth(0)\n",
    "        t.circle(10, 50)\n",
    "\n",
    "        t.seth(110)\n",
    "        t.circle(100, 20)\n",
    "        t.left(180)\n",
    "        t.circle(-100, 20)\n",
    "\n",
    "        t.seth(30)\n",
    "        t.circle(20, 50)\n",
    "\n",
    "        t.seth(100)\n",
    "        t.circle(100, 40)\n",
    "\n",
    "        #\n",
    "        t.seth(200)\n",
    "        t.circle(-100, 5)\n",
    "        t.left(180)\n",
    "        t.circle(100, 5)\n",
    "        t.left(30)\n",
    "        t.circle(100, 75)\n",
    "        t.right(15)\n",
    "        t.circle(-300, 21)\n",
    "        t.left(180)\n",
    "        t.circle(300, 3)\n",
    "\n",
    "        #\n",
    "        t.seth(43)\n",
    "        t.circle(200, 60)\n",
    "\n",
    "        t.right(10)\n",
    "        t.fd(10)\n",
    "\n",
    "        t.circle(5, 160)\n",
    "        t.seth(90)\n",
    "        t.circle(5, 160)\n",
    "        t.seth(90)\n",
    "\n",
    "        t.fd(10)\n",
    "        t.seth(90)\n",
    "        t.circle(5, 180)\n",
    "        t.fd(10)\n",
    "\n",
    "        t.left(180)\n",
    "        t.left(20)\n",
    "        t.fd(10)\n",
    "        t.circle(5, 170)\n",
    "        t.fd(10)\n",
    "        t.seth(240)\n",
    "        t.circle(50, 30)\n",
    "\n",
    "        t.end_fill()\n",
    "        self.meme(130, 125)\n",
    "        t.seth(-20)\n",
    "        t.fd(5)\n",
    "        t.circle(-5, 160)\n",
    "        t.fd(5)\n",
    "\n",
    "        #\n",
    "        self.meme(166, 130)\n",
    "        t.seth(-90)\n",
    "        t.fd(3)\n",
    "        t.circle(-4, 180)\n",
    "        t.fd(3)\n",
    "        t.seth(-90)\n",
    "        t.fd(3)\n",
    "        t.circle(-4, 180)\n",
    "        t.fd(3)\n",
    "\n",
    "        #\n",
    "        self.meme(168, 134)\n",
    "        t.fillcolor('#F6D02F')\n",
    "        t.begin_fill()\n",
    "        t.seth(40)\n",
    "        t.fd(200)\n",
    "        t.seth(-80)\n",
    "        t.fd(150)\n",
    "        t.seth(210)\n",
    "        t.fd(150)\n",
    "        t.left(90)\n",
    "        t.fd(100)\n",
    "        t.right(95)\n",
    "        t.fd(100)\n",
    "        t.left(110)\n",
    "        t.fd(70)\n",
    "        t.right(110)\n",
    "        t.fd(80)\n",
    "        t.left(110)\n",
    "        t.fd(30)\n",
    "        t.right(110)\n",
    "        t.fd(32)\n",
    "\n",
    "        t.right(106)\n",
    "        t.circle(100, 25)\n",
    "        t.right(15)\n",
    "        t.circle(-300, 2)\n",
    "        ##############\n",
    "        # print(t.pos())\n",
    "        t.seth(30)\n",
    "        t.fd(40)\n",
    "        t.left(100)\n",
    "        t.fd(70)\n",
    "        t.right(100)\n",
    "        t.fd(80)\n",
    "        t.left(100)\n",
    "        t.fd(46)\n",
    "        t.seth(66)\n",
    "        t.circle(200, 38)\n",
    "        t.right(10)\n",
    "        t.fd(10)\n",
    "        t.end_fill()\n",
    "\n",
    "        #\n",
    "        t.fillcolor('#923E24')\n",
    "        self.meme(126.82, -156.84)\n",
    "        t.begin_fill()\n",
    "\n",
    "        t.seth(30)\n",
    "        t.fd(40)\n",
    "        t.left(100)\n",
    "        t.fd(40)\n",
    "        t.pencolor('#923e24')\n",
    "        t.seth(-30)\n",
    "        t.fd(30)\n",
    "        t.left(140)\n",
    "        t.fd(20)\n",
    "        t.right(150)\n",
    "        t.fd(20)\n",
    "        t.left(150)\n",
    "        t.fd(20)\n",
    "        t.right(150)\n",
    "        t.fd(20)\n",
    "        t.left(130)\n",
    "        t.fd(18)\n",
    "        t.pencolor('#000000')\n",
    "        t.seth(-45)\n",
    "        t.fd(67)\n",
    "        t.right(110)\n",
    "        t.fd(80)\n",
    "        t.left(110)\n",
    "        t.fd(30)\n",
    "        t.right(110)\n",
    "        t.fd(32)\n",
    "        t.right(106)\n",
    "        t.circle(100, 25)\n",
    "        t.right(15)\n",
    "        t.circle(-300, 2)\n",
    "        t.end_fill()\n",
    "\n",
    "        self.topi(-134.07, 147.81)\n",
    "        self.mukh(-5, 25)\n",
    "        self.gaala1(-126, 32)\n",
    "        self.gaala2(107, 63)\n",
    "        self.kaan1(-250, 100)\n",
    "        self.kaan2(140, 270)\n",
    "        self.aankha1(-85, 90)\n",
    "        self.aankha2(50, 110)\n",
    "        t.hideturtle()\n",
    "\n",
    "    def topi(self, x, y):\n",
    "        self.meme(x, y)\n",
    "        t = self.t\n",
    "        t.fillcolor('#CD0000')\n",
    "        t.begin_fill()\n",
    "        t.seth(200)\n",
    "        t.circle(400, 7)\n",
    "        t.left(180)\n",
    "        t.circle(-400, 30)\n",
    "        t.circle(30, 60)\n",
    "        t.fd(50)\n",
    "        t.circle(30, 45)\n",
    "        t.fd(60)\n",
    "        t.left(5)\n",
    "        t.circle(30, 70)\n",
    "        t.right(20)\n",
    "        t.circle(200, 70)\n",
    "        t.circle(30, 60)\n",
    "        t.fd(70)\n",
    "        # print(t.pos())\n",
    "        t.right(35)\n",
    "        t.fd(50)\n",
    "        t.circle(8, 100)\n",
    "        t.end_fill()\n",
    "        self.meme(-168.47, 185.52)\n",
    "        t.seth(36)\n",
    "        t.circle(-270, 54)\n",
    "        t.left(180)\n",
    "        t.circle(270, 27)\n",
    "        t.circle(-80, 98)\n",
    "\n",
    "        t.fillcolor('#444444')\n",
    "        t.begin_fill()\n",
    "        t.left(180)\n",
    "        t.circle(80, 197)\n",
    "        t.left(58)\n",
    "        t.circle(200, 45)\n",
    "        t.end_fill()\n",
    "\n",
    "        self.meme(-58, 270)\n",
    "        t.pencolor('#228B22')\n",
    "        t.dot(35)\n",
    "\n",
    "        self.meme(-30, 280)\n",
    "        t.fillcolor('#228B22')\n",
    "        t.begin_fill()\n",
    "        t.seth(100)\n",
    "        t.circle(30, 180)\n",
    "        t.seth(190)\n",
    "        t.fd(15)\n",
    "        t.seth(100)\n",
    "        t.circle(-45, 180)\n",
    "        t.right(90)\n",
    "        t.fd(15)\n",
    "        t.end_fill()\n",
    "        t.pencolor('#000000')\n",
    "\n",
    "    def start(self):\n",
    "        self.jiu()\n",
    "\n",
    "\n",
    "def main():\n",
    "    print('Painting the Cartoon... ')\n",
    "    turtle.screensize(800, 600)\n",
    "    turtle.title('Cartoon')\n",
    "    drawing = Draw_Pikachu()\n",
    "    drawing.start()\n",
    "    turtle.mainloop()\n",
    "\n",
    "\n",
    "if __name__ == '__main__':\n",
    "    main()"
   ]
  },
  {
   "cell_type": "code",
   "execution_count": null,
   "id": "44a6480d",
   "metadata": {},
   "outputs": [],
   "source": [
    "import turtle\n",
    "from turtle import *\n",
    "\n",
    "turtle.title(\"rainbow spiral\")\n",
    "speed(150)\n",
    "bgcolor(\"black\")\n",
    "r,g,b=255,0,0\n",
    "\n",
    "for i in range(255*2):\n",
    "    colormode(255)\n",
    "    if i<255//3:\n",
    "        g+=3\n",
    "    elif i<255*2//3:\n",
    "        r-=3\n",
    "    elif i<255:\n",
    "        b+=3\n",
    "    elif i<255*4//3:\n",
    "        g-=3\n",
    "    elif i<255*5//3:\n",
    "        r+=3\n",
    "    else:\n",
    "        b-=3\n",
    "    fd(50+i)\n",
    "    rt(91)\n",
    "    pencolor(r,g,b)\n",
    "\n",
    "done()"
   ]
  },
  {
   "cell_type": "code",
   "execution_count": 1,
   "id": "0768e3dc",
   "metadata": {},
   "outputs": [
    {
     "ename": "ModuleNotFoundError",
     "evalue": "No module named 'sketchpy'",
     "output_type": "error",
     "traceback": [
      "\u001b[0;31m---------------------------------------------------------------------------\u001b[0m",
      "\u001b[0;31mModuleNotFoundError\u001b[0m                       Traceback (most recent call last)",
      "Cell \u001b[0;32mIn[1], line 1\u001b[0m\n\u001b[0;32m----> 1\u001b[0m \u001b[38;5;28;01mfrom\u001b[39;00m \u001b[38;5;21;01msketchpy\u001b[39;00m \u001b[38;5;28;01mimport\u001b[39;00m library\n\u001b[1;32m      3\u001b[0m img \u001b[38;5;241m=\u001b[39m library\u001b[38;5;241m.\u001b[39mvijay()\n\u001b[1;32m      4\u001b[0m img\u001b[38;5;241m.\u001b[39mdraw()\n",
      "\u001b[0;31mModuleNotFoundError\u001b[0m: No module named 'sketchpy'"
     ]
    }
   ],
   "source": [
    "from sketchpy import library\n",
    "\n",
    "img = library.vijay()\n",
    "img.draw()\n"
   ]
  },
  {
   "cell_type": "code",
   "execution_count": 1,
   "id": "b7e03910",
   "metadata": {},
   "outputs": [
    {
     "name": "stdout",
     "output_type": "stream",
     "text": [
      "Enter your name: Ayaan\n",
      "Enter your current age: 14\n",
      "Enter the current city you are living in:  pune\n",
      "Your name is Ayaan\n",
      "You are 14 years\n",
      "You live in pune city\n"
     ]
    }
   ],
   "source": [
    "# To print name,age and city\n",
    "name=str(input(\"Enter your name: \"))\n",
    "age=int(input(\"Enter your current age: \"))\n",
    "city=str(input(\"Enter the current city you are living in:  \"))\n",
    "print(\"Your name is\",name)\n",
    "print(\"You are\",age,\"years\")\n",
    "print(\"You live in\",city,\"city\")"
   ]
  },
  {
   "cell_type": "code",
   "execution_count": 3,
   "id": "fabbb90c",
   "metadata": {},
   "outputs": [
    {
     "name": "stdout",
     "output_type": "stream",
     "text": [
      "Enter the current city you are living in: pune\n",
      "Enter the current temperature in C: 12\n",
      "Enter the weather condition: good\n",
      "You live in pune With temperature of 12.0 C And with a weather condition of good\n"
     ]
    }
   ],
   "source": [
    "#Weather forcast\n",
    "city=str(input(\"Enter the current city you are living in: \"))\n",
    "temp=float(input(\"Enter the current temperature in C: \"))\n",
    "weather_condition=str(input(\"Enter the weather condition: \"))\n",
    "print(\"You live in\",city,\"With temperature of\",temp,\"C\",\"And with a weather condition of\",weather_condition)"
   ]
  },
  {
   "cell_type": "code",
   "execution_count": 12,
   "id": "17c0e8a6",
   "metadata": {},
   "outputs": [
    {
     "name": "stdout",
     "output_type": "stream",
     "text": [
      "10\n"
     ]
    }
   ],
   "source": [
    "num=[1,4,0,5]\n",
    "total=sum(num)\n",
    "print(total)"
   ]
  },
  {
   "cell_type": "code",
   "execution_count": 16,
   "id": "4582d12f",
   "metadata": {},
   "outputs": [
    {
     "name": "stdout",
     "output_type": "stream",
     "text": [
      "15\n"
     ]
    }
   ],
   "source": [
    "total=0\n",
    "list=[1,2,3,4,5]\n",
    "for element in range(0,len(list)):\n",
    "    \n",
    "    total=total+(list[element])\n",
    "print(total)"
   ]
  },
  {
   "cell_type": "code",
   "execution_count": 23,
   "id": "5a34d62e",
   "metadata": {},
   "outputs": [
    {
     "name": "stdout",
     "output_type": "stream",
     "text": [
      "enter name: ayaan\n",
      "Yes the key/name ayaan exist\n"
     ]
    }
   ],
   "source": [
    "list={\"ayaan\":1,\"aditya\":2,\"rishi\":3}\n",
    "key=(input(\"enter name: \"))\n",
    "if key in list:\n",
    "    print(\"Yes the key/name\",key,\"exist\")\n",
    "else:\n",
    "    print(\"No\",key,\"does not exist\")"
   ]
  },
  {
   "cell_type": "code",
   "execution_count": 30,
   "id": "45035d66",
   "metadata": {},
   "outputs": [
    {
     "name": "stdout",
     "output_type": "stream",
     "text": [
      "[5, 3, 1, 9]\n"
     ]
    }
   ],
   "source": [
    "list=[2,5,3,8,1,9,0]\n",
    "even_num=[x for x in list if x%2!=0]\n",
    "print(even_num)"
   ]
  },
  {
   "cell_type": "code",
   "execution_count": null,
   "id": "9431a8bd",
   "metadata": {},
   "outputs": [],
   "source": [
    "value=int(input(\"Enter a num: \"))\n"
   ]
  },
  {
   "cell_type": "code",
   "execution_count": 32,
   "id": "a9484e84",
   "metadata": {},
   "outputs": [
    {
     "name": "stdout",
     "output_type": "stream",
     "text": [
      "{1: 'ayaan', 2: 'rishi', 3: 'kashish', 4: 'aditya'}\n"
     ]
    }
   ],
   "source": [
    "list1=[1,2,3,4,5,6,7,8]\n",
    "list2=[\"ayaan\",\"rishi\",\"kashish\",\"aditya\"]\n",
    "key=dict(zip(list1,list2))\n",
    "print(key)"
   ]
  },
  {
   "cell_type": "code",
   "execution_count": 12,
   "id": "e7d439f1",
   "metadata": {},
   "outputs": [
    {
     "name": "stdout",
     "output_type": "stream",
     "text": [
      "enter a num: 15\n",
      "1 2 3 5 8 13 21 34 55 89 144 233 377 610 \n"
     ]
    }
   ],
   "source": [
    "key=int(input(\"enter a num: \"))\n",
    "n1=0\n",
    "n2=1\n",
    "n3=1\n",
    "n4=n2\n",
    "while n3<key:\n",
    "    print(n4,end=\" \")\n",
    "    n3+=1\n",
    "    n1,n2=n2,n4\n",
    "    n4=n1+n2\n",
    "print()\n",
    "    \n",
    "    \n",
    "\n",
    "    "
   ]
  },
  {
   "cell_type": "code",
   "execution_count": 11,
   "id": "be8e960e",
   "metadata": {},
   "outputs": [
    {
     "name": "stdout",
     "output_type": "stream",
     "text": [
      "9 <class 'int'>\n"
     ]
    }
   ],
   "source": [
    "a=5\n",
    "b=9\n",
    "c=int \n",
    "a=b\n",
    "b=c\n",
    "c=a\n",
    "print(a,b)"
   ]
  },
  {
   "cell_type": "code",
   "execution_count": null,
   "id": "47e634d9",
   "metadata": {},
   "outputs": [],
   "source": [
    "num=int(input(\"enter a num: \"))\n",
    "n1=1\n",
    "n2=1\n",
    "n3=n2\n",
    "while n2<num:\n",
    "    print(n3,end=\" \")\n",
    "    "
   ]
  },
  {
   "cell_type": "code",
   "execution_count": 8,
   "id": "58326390",
   "metadata": {},
   "outputs": [
    {
     "name": "stdout",
     "output_type": "stream",
     "text": [
      "enter a number: 3654846\n",
      "enter a another number: 7684759736\n",
      "enter +,*,-,/: /\n",
      "0.0004755966517571812\n"
     ]
    }
   ],
   "source": [
    "num1=float(input(\"enter a number: \"))\n",
    "num2=float(input(\"enter a another number: \"))\n",
    "operator=str=(input(\"enter +,*,-,/: \"))\n",
    "if operator==\"+\":\n",
    "    ans1=num1+num2\n",
    "    print(ans1)\n",
    "elif operator==\"*\":\n",
    "    ans2=num1*num2\n",
    "    print(ans2)\n",
    "elif operator==\"-\":\n",
    "    ans3=num1-num2\n",
    "    print(ans3)\n",
    "elif operator==\"/\":\n",
    "    ans4=num1/num2\n",
    "    print(ans4)\n",
    "else:\n",
    "    print(\"Uncapable to perform operation\")"
   ]
  },
  {
   "cell_type": "code",
   "execution_count": 41,
   "id": "99428e53",
   "metadata": {},
   "outputs": [
    {
     "name": "stdout",
     "output_type": "stream",
     "text": [
      "Welcome to Pizza Huts automated delivery service\n",
      "\n",
      "One pizza of any kind in VEG cost $10\n",
      "One pizza of any kind in NON-VEG cost $14\n",
      "\n",
      "Enter the amount of pizzas wanted in Veg: 1\n",
      "Enter the amount of pizzas wanted in Non-Veg: 2\n",
      "\n",
      "Your total is 38\n",
      "You get 10% so your final total 4\n"
     ]
    }
   ],
   "source": [
    "print(\"Welcome to Pizza Huts automated delivery service\")\n",
    "print()\n",
    "print(\"One pizza of any kind in VEG cost $10\")\n",
    "veg=10\n",
    "print(\"One pizza of any kind in NON-VEG cost $14\")\n",
    "non=14\n",
    "print()\n",
    "amt=int(input(\"Enter the amount of pizzas wanted in Veg: \"))\n",
    "amt1=int(input(\"Enter the amount of pizzas wanted in Non-Veg: \"))\n",
    "print()\n",
    "totalno=(amt+amt1)\n",
    "vegtotal=(amt*veg)\n",
    "nontotal=(amt1*non)\n",
    "total=(vegtotal+nontotal)\n",
    "\n",
    "if totalno>=3:\n",
    "    print(\"Your total is\",total)\n",
    "    total1=(10/100)*total\n",
    "    total2=round(total1)\n",
    "    print(\"You get 10% so your final total\",total2)\n",
    "else :\n",
    "    print(\"Your total is\",total)\n",
    "    "
   ]
  },
  {
   "cell_type": "code",
   "execution_count": 19,
   "id": "fb873778",
   "metadata": {},
   "outputs": [
    {
     "name": "stdout",
     "output_type": "stream",
     "text": [
      "50 80\n"
     ]
    }
   ],
   "source": [
    "a=80\n",
    "b=50\n",
    "c=a\n",
    "a=b\n",
    "b=c\n",
    "print(a,b)"
   ]
  },
  {
   "cell_type": "code",
   "execution_count": 27,
   "id": "87fab39b",
   "metadata": {},
   "outputs": [
    {
     "name": "stdout",
     "output_type": "stream",
     "text": [
      "Enter a num: 5\n",
      "0 1\n"
     ]
    },
    {
     "ename": "NameError",
     "evalue": "name 'n' is not defined",
     "output_type": "error",
     "traceback": [
      "\u001b[0;31m---------------------------------------------------------------------------\u001b[0m",
      "\u001b[0;31mNameError\u001b[0m                                 Traceback (most recent call last)",
      "Cell \u001b[0;32mIn[27], line 5\u001b[0m\n\u001b[1;32m      3\u001b[0m b\u001b[38;5;241m=\u001b[39m\u001b[38;5;241m1\u001b[39m\n\u001b[1;32m      4\u001b[0m \u001b[38;5;28mprint\u001b[39m(a,b)\n\u001b[0;32m----> 5\u001b[0m \u001b[38;5;28;01mfor\u001b[39;00m i \u001b[38;5;129;01min\u001b[39;00m \u001b[38;5;28mrange\u001b[39m(\u001b[38;5;241m2\u001b[39m,n):\n\u001b[1;32m      6\u001b[0m     c\u001b[38;5;241m=\u001b[39ma\u001b[38;5;241m+\u001b[39mb\n\u001b[1;32m      7\u001b[0m     a\u001b[38;5;241m=\u001b[39mb\n",
      "\u001b[0;31mNameError\u001b[0m: name 'n' is not defined"
     ]
    }
   ],
   "source": [
    "key=int(input(\"Enter a num: \"))\n",
    "a=0\n",
    "b=1\n",
    "print(a,b)\n",
    "for i in range (2,n):\n",
    "    c=a+b\n",
    "    a=b\n",
    "    b=c\n",
    "print(c)\n"
   ]
  },
  {
   "cell_type": "code",
   "execution_count": 84,
   "id": "fdf59487",
   "metadata": {},
   "outputs": [
    {
     "name": "stdout",
     "output_type": "stream",
     "text": [
      "Enter a number:4\n",
      "*\n",
      "**\n",
      "***\n",
      "****\n"
     ]
    }
   ],
   "source": [
    "num=int(input(\"Enter a number:\"))\n",
    "for i  in range(1,num+1):\n",
    "    for j in range(1,1+i):\n",
    "        print(\"*\",end=\"\")\n",
    "    print()"
   ]
  },
  {
   "cell_type": "code",
   "execution_count": 2,
   "id": "45aaba1b",
   "metadata": {},
   "outputs": [
    {
     "name": "stdout",
     "output_type": "stream",
     "text": [
      "Enter the number of people coming to the party: 5\n",
      "You would require 40 slices of pizza\n"
     ]
    }
   ],
   "source": [
    "num=int(input(\"Enter the number of people coming to the party: \"))\n",
    "oneperson=8\n",
    "total=(num*oneperson)\n",
    "print(\"You would require\",total,\"slices of pizza\")"
   ]
  },
  {
   "cell_type": "code",
   "execution_count": 7,
   "id": "18d2de65",
   "metadata": {},
   "outputs": [
    {
     "name": "stdout",
     "output_type": "stream",
     "text": [
      "Enter a few numbers: 146\n"
     ]
    },
    {
     "ename": "TypeError",
     "evalue": "'int' object is not iterable",
     "output_type": "error",
     "traceback": [
      "\u001b[0;31m---------------------------------------------------------------------------\u001b[0m",
      "\u001b[0;31mTypeError\u001b[0m                                 Traceback (most recent call last)",
      "Cell \u001b[0;32mIn[7], line 3\u001b[0m\n\u001b[1;32m      1\u001b[0m lis1\u001b[38;5;241m=\u001b[39m[\u001b[38;5;241m1\u001b[39m,\u001b[38;5;241m3\u001b[39m]\n\u001b[1;32m      2\u001b[0m lis1\u001b[38;5;241m.\u001b[39mappend(\u001b[38;5;28mint\u001b[39m(\u001b[38;5;28minput\u001b[39m(\u001b[38;5;124m\"\u001b[39m\u001b[38;5;124mEnter a few numbers: \u001b[39m\u001b[38;5;124m\"\u001b[39m)))\n\u001b[0;32m----> 3\u001b[0m maxx\u001b[38;5;241m=\u001b[39m\u001b[38;5;28mmax\u001b[39m(lis)\n\u001b[1;32m      4\u001b[0m minn\u001b[38;5;241m=\u001b[39m\u001b[38;5;28mmin\u001b[39m(lis)\n\u001b[1;32m      5\u001b[0m \u001b[38;5;28mprint\u001b[39m(\u001b[38;5;124m\"\u001b[39m\u001b[38;5;124mThe maximum num is\u001b[39m\u001b[38;5;124m\"\u001b[39m,maxx,\u001b[38;5;124m\"\u001b[39m\u001b[38;5;124mand the minimum is\u001b[39m\u001b[38;5;124m\"\u001b[39m,minn)\n",
      "\u001b[0;31mTypeError\u001b[0m: 'int' object is not iterable"
     ]
    }
   ],
   "source": [
    "lis1=[]\n",
    "lis1.append(int(input(\"Enter a few numbers: \")))\n",
    "maxx=max(lis)\n",
    "minn=min(lis)\n",
    "print(\"The maximum num is\",maxx,\"and the minimum is\",minn)"
   ]
  },
  {
   "cell_type": "code",
   "execution_count": null,
   "id": "3029df55",
   "metadata": {},
   "outputs": [],
   "source": [
    "list=[]\n",
    "n=int(input(\"enter the number of elements you want in the list\"))\n",
    "for i in range()"
   ]
  },
  {
   "cell_type": "code",
   "execution_count": 20,
   "id": "45bffbae",
   "metadata": {},
   "outputs": [
    {
     "name": "stdout",
     "output_type": "stream",
     "text": [
      "Enter number of elements : 2\n",
      "1\n",
      "5\n",
      "[1, 5]\n",
      "The minimum value is 1\n",
      "The maximum value is 5\n"
     ]
    }
   ],
   "source": [
    "lst = []\n",
    "n = int(input(\"Enter number of elements : \"))\n",
    "for i in range(0, n):\n",
    "    element = int(input())\n",
    "    # adding the element\n",
    "    lst.append(element) \n",
    "print(lst)\n",
    "print(\"The minimum value is\",min(lst))\n",
    "print(\"The maximum value is\",max(lst))"
   ]
  },
  {
   "cell_type": "markdown",
   "id": "e81d326d",
   "metadata": {},
   "source": [
    "\n"
   ]
  },
  {
   "cell_type": "code",
   "execution_count": 24,
   "id": "6b534356",
   "metadata": {},
   "outputs": [
    {
     "name": "stdout",
     "output_type": "stream",
     "text": [
      "Enter movie:bloodshot\n",
      "Enter ratings:8.6\n",
      "{'Avengers': '9.8', 'Iron_man': '9.0', 'bloodshot': '8.6'}\n",
      "bloodshot\n",
      "Avengers\n"
     ]
    }
   ],
   "source": [
    "rate={\"Avengers\":\"9.8\",\"Iron_man\":\"9.0\"}\n",
    "n=(input(\"Enter movie:\"))\n",
    "r=(input(\"Enter ratings:\"))\n",
    "rate[n]=r\n",
    "print(rate)\n",
    "print(max(rate))\n",
    "print(min(rate))"
   ]
  },
  {
   "cell_type": "code",
   "execution_count": 25,
   "id": "f52be9ee",
   "metadata": {},
   "outputs": [
    {
     "name": "stdout",
     "output_type": "stream",
     "text": [
      "Enter a number: 6\n",
      "6 is a even number\n"
     ]
    }
   ],
   "source": [
    "enter=int(input(\"Enter a number: \"))\n",
    "if enter%2==0:\n",
    "    print(enter,\"is a even number\")\n",
    "else:\n",
    "    print(enter,\"is a odd number\")"
   ]
  },
  {
   "cell_type": "code",
   "execution_count": 35,
   "id": "5758837a",
   "metadata": {},
   "outputs": [
    {
     "name": "stdout",
     "output_type": "stream",
     "text": [
      "Enter a month: May\n",
      "The month may has 31 days\n"
     ]
    }
   ],
   "source": [
    "month=str(input(\"Enter a month: \"))\n",
    "january=31\n",
    "feburary=28\n",
    "march=31\n",
    "april=30\n",
    "may=31\n",
    "june=30\n",
    "july=31\n",
    "august=31\n",
    "september=30\n",
    "october=31\n",
    "november=30\n",
    "december=31\n",
    "if month.lower()==\"january\":\n",
    "    print(\"The month january has\",january,\"days\")\n",
    "    \n",
    "elif month.lower()==\"feburary\":\n",
    "    print(\"The month feburary has\",feburary,\"days\")\n",
    "    \n",
    "elif month.lower()==\"march\":\n",
    "    print(\"The month march has\",march,\"days\")\n",
    "    \n",
    "elif month.lower()==\"april\":\n",
    "    print(\"The month april has\",april,\"days\")\n",
    "    \n",
    "elif month.lower()==\"may\":\n",
    "    print(\"The month may has\",may,\"days\")\n",
    "    \n",
    "elif month.lower()==\"june\":\n",
    "    print(\"The month june has\",june,\"days\")\n",
    "    \n",
    "elif month.lower()==\"july\":\n",
    "    print(\"The month july has\",july,\"days\")\n",
    "    \n",
    "elif month.lower()==\"august\":\n",
    "    print(\"The month august has\",august,\"days\")\n",
    "    \n",
    "elif month.lower()==\"september\":\n",
    "    print(\"The month september has\",september,\"days\")\n",
    "    \n",
    "elif month.lower()==\"october\":\n",
    "    print(\"The month october has\",october,\"days\")\n",
    "    \n",
    "elif month.lower()==\"november\":\n",
    "    print(\"The month november has\",november,\"days\")\n",
    "    \n",
    "elif month.lower()==\"december\":\n",
    "    print(\"The month december has\",december,\"days\")\n",
    "else:\n",
    "    print(\"Month invalid\")\n",
    "    \n",
    "\n"
   ]
  },
  {
   "cell_type": "code",
   "execution_count": 41,
   "id": "28457871",
   "metadata": {},
   "outputs": [
    {
     "name": "stdout",
     "output_type": "stream",
     "text": [
      "Welcome to a AI power greeting card\n",
      "1:Happy Birthday😜\n",
      "2:Joy and happiness are on their way🥳\n",
      "3:Best of wishes to you👌🏻\n",
      "To end loop input 3\n",
      "Enter a number from 1-3:  1\n",
      "1:Happy Birthday😜\n",
      "1:Happy Birthday😜\n",
      "2:Joy and happiness are on their way🥳\n",
      "3:Best of wishes to you👌🏻\n",
      "To end loop input 3\n",
      "Enter a number from 1-3:  2\n",
      "2:Joy and happiness are on their way🥳\n",
      "1:Happy Birthday😜\n",
      "2:Joy and happiness are on their way🥳\n",
      "3:Best of wishes to you👌🏻\n",
      "To end loop input 3\n",
      "Enter a number from 1-3:  3\n",
      "3:Best of wishes to you👌🏻\n"
     ]
    }
   ],
   "source": [
    "print(\"Welcome to a AI power greeting card\")\n",
    "while True:\n",
    "        a=(\"1:Happy Birthday😜\")\n",
    "        b=(\"2:Joy and happiness are on their way🥳\")\n",
    "        c=(\"3:Best of wishes to you👌🏻\")\n",
    "        \n",
    "        print(a)\n",
    "        print(b)\n",
    "        print(c)\n",
    "        print(\"To end loop input 3\")\n",
    "    \n",
    "        choice=int(input(\"Enter a number from 1-3:  \"))\n",
    "        if choice==1:\n",
    "            print(a)\n",
    "        elif choice==2:\n",
    "            print(b)\n",
    "        elif choice==3:\n",
    "            print(c)\n",
    "            break\n",
    "        else:\n",
    "            print(\"Invalid input  Enter 1-3\")"
   ]
  },
  {
   "cell_type": "markdown",
   "id": "e2e9e092",
   "metadata": {},
   "source": []
  },
  {
   "cell_type": "code",
   "execution_count": 52,
   "id": "6075140c",
   "metadata": {},
   "outputs": [
    {
     "name": "stdout",
     "output_type": "stream",
     "text": [
      "Welcome\n",
      "Enter a number from 1 or 2:  3\n",
      "Invalid input  Enter 1-3\n",
      "Welcome\n"
     ]
    },
    {
     "ename": "KeyboardInterrupt",
     "evalue": "Interrupted by user",
     "output_type": "error",
     "traceback": [
      "\u001b[0;31m---------------------------------------------------------------------------\u001b[0m",
      "\u001b[0;31mKeyboardInterrupt\u001b[0m                         Traceback (most recent call last)",
      "Cell \u001b[0;32mIn[52], line 9\u001b[0m\n\u001b[1;32m      7\u001b[0m \u001b[38;5;28;01mwhile\u001b[39;00m \u001b[38;5;28;01mTrue\u001b[39;00m:\n\u001b[1;32m      8\u001b[0m     \u001b[38;5;28mprint\u001b[39m(\u001b[38;5;124m\"\u001b[39m\u001b[38;5;124mWelcome\u001b[39m\u001b[38;5;124m\"\u001b[39m)\n\u001b[0;32m----> 9\u001b[0m     choice\u001b[38;5;241m=\u001b[39m\u001b[38;5;28mint\u001b[39m(\u001b[38;5;28minput\u001b[39m(\u001b[38;5;124m\"\u001b[39m\u001b[38;5;124mEnter a number from 1 or 2:  \u001b[39m\u001b[38;5;124m\"\u001b[39m))\n\u001b[1;32m     10\u001b[0m     \u001b[38;5;28;01mif\u001b[39;00m choice\u001b[38;5;241m==\u001b[39m\u001b[38;5;241m1\u001b[39m:\n\u001b[1;32m     11\u001b[0m         birthday_card()\n",
      "File \u001b[0;32m~/anaconda3/lib/python3.11/site-packages/ipykernel/kernelbase.py:1202\u001b[0m, in \u001b[0;36mKernel.raw_input\u001b[0;34m(self, prompt)\u001b[0m\n\u001b[1;32m   1200\u001b[0m     msg \u001b[38;5;241m=\u001b[39m \u001b[38;5;124m\"\u001b[39m\u001b[38;5;124mraw_input was called, but this frontend does not support input requests.\u001b[39m\u001b[38;5;124m\"\u001b[39m\n\u001b[1;32m   1201\u001b[0m     \u001b[38;5;28;01mraise\u001b[39;00m StdinNotImplementedError(msg)\n\u001b[0;32m-> 1202\u001b[0m \u001b[38;5;28;01mreturn\u001b[39;00m \u001b[38;5;28mself\u001b[39m\u001b[38;5;241m.\u001b[39m_input_request(\n\u001b[1;32m   1203\u001b[0m     \u001b[38;5;28mstr\u001b[39m(prompt),\n\u001b[1;32m   1204\u001b[0m     \u001b[38;5;28mself\u001b[39m\u001b[38;5;241m.\u001b[39m_parent_ident[\u001b[38;5;124m\"\u001b[39m\u001b[38;5;124mshell\u001b[39m\u001b[38;5;124m\"\u001b[39m],\n\u001b[1;32m   1205\u001b[0m     \u001b[38;5;28mself\u001b[39m\u001b[38;5;241m.\u001b[39mget_parent(\u001b[38;5;124m\"\u001b[39m\u001b[38;5;124mshell\u001b[39m\u001b[38;5;124m\"\u001b[39m),\n\u001b[1;32m   1206\u001b[0m     password\u001b[38;5;241m=\u001b[39m\u001b[38;5;28;01mFalse\u001b[39;00m,\n\u001b[1;32m   1207\u001b[0m )\n",
      "File \u001b[0;32m~/anaconda3/lib/python3.11/site-packages/ipykernel/kernelbase.py:1245\u001b[0m, in \u001b[0;36mKernel._input_request\u001b[0;34m(self, prompt, ident, parent, password)\u001b[0m\n\u001b[1;32m   1242\u001b[0m \u001b[38;5;28;01mexcept\u001b[39;00m \u001b[38;5;167;01mKeyboardInterrupt\u001b[39;00m:\n\u001b[1;32m   1243\u001b[0m     \u001b[38;5;66;03m# re-raise KeyboardInterrupt, to truncate traceback\u001b[39;00m\n\u001b[1;32m   1244\u001b[0m     msg \u001b[38;5;241m=\u001b[39m \u001b[38;5;124m\"\u001b[39m\u001b[38;5;124mInterrupted by user\u001b[39m\u001b[38;5;124m\"\u001b[39m\n\u001b[0;32m-> 1245\u001b[0m     \u001b[38;5;28;01mraise\u001b[39;00m \u001b[38;5;167;01mKeyboardInterrupt\u001b[39;00m(msg) \u001b[38;5;28;01mfrom\u001b[39;00m \u001b[38;5;28;01mNone\u001b[39;00m\n\u001b[1;32m   1246\u001b[0m \u001b[38;5;28;01mexcept\u001b[39;00m \u001b[38;5;167;01mException\u001b[39;00m:\n\u001b[1;32m   1247\u001b[0m     \u001b[38;5;28mself\u001b[39m\u001b[38;5;241m.\u001b[39mlog\u001b[38;5;241m.\u001b[39mwarning(\u001b[38;5;124m\"\u001b[39m\u001b[38;5;124mInvalid Message:\u001b[39m\u001b[38;5;124m\"\u001b[39m, exc_info\u001b[38;5;241m=\u001b[39m\u001b[38;5;28;01mTrue\u001b[39;00m)\n",
      "\u001b[0;31mKeyboardInterrupt\u001b[0m: Interrupted by user"
     ]
    }
   ],
   "source": [
    "def birthday_card():\n",
    "    print(\"Happy Birthday\")\n",
    "    print(\"Wishing you a day of happyness\")\n",
    "def thank_you():\n",
    "    print(\"Thank you\")\n",
    "    print(\"Your yourthfull thanks\")\n",
    "while True:\n",
    "    print(\"Welcome\")\n",
    "    choice=int(input(\"Enter a number from 1 or 2:  \"))\n",
    "    if choice==1:\n",
    "        birthday_card()\n",
    "        \n",
    "    elif choice==2:\n",
    "        thank_you()\n",
    "        break\n",
    "    else:\n",
    "        print(\"Invalid input  Enter 1-3\")"
   ]
  },
  {
   "cell_type": "code",
   "execution_count": 82,
   "id": "e2f08ad8",
   "metadata": {},
   "outputs": [
    {
     "name": "stdout",
     "output_type": "stream",
     "text": [
      "Enter a function: flight_mode\n",
      "UP UP and AWAY\n"
     ]
    }
   ],
   "source": [
    "def flight_mode():\n",
    "    return \"UP UP and AWAY\"\n",
    "    \n",
    "def shut_down():\n",
    "    return \"Powering down\"\n",
    "    \n",
    "def repulsor_suit():\n",
    "    return \"Powering up FIRED\"\n",
    "    \n",
    "inputt=str(input(\"Enter a function: \"))\n",
    "if inputt==\"flight_mode\":\n",
    "    print(flight_mode())\n",
    "elif inputt==\"shut_down\":\n",
    "    print(shut_down())\n",
    "elif inputt==\"repulsor_suit\":\n",
    "    print(repulsor_suit())\n",
    "else:\n",
    "        print(\"Invalid\")"
   ]
  },
  {
   "cell_type": "code",
   "execution_count": 79,
   "id": "a3a83118",
   "metadata": {},
   "outputs": [
    {
     "ename": "SyntaxError",
     "evalue": "expected '(' (1503127067.py, line 1)",
     "output_type": "error",
     "traceback": [
      "\u001b[0;36m  Cell \u001b[0;32mIn[79], line 1\u001b[0;36m\u001b[0m\n\u001b[0;31m    def mission\u001b[0m\n\u001b[0m               ^\u001b[0m\n\u001b[0;31mSyntaxError\u001b[0m\u001b[0;31m:\u001b[0m expected '('\n"
     ]
    }
   ],
   "source": [
    "def mission:\n",
    "    return\"Iron Man your mission is\"+mission+\"today\"\n",
    "mission_description+input(\"Enter your mission\")\n"
   ]
  },
  {
   "cell_type": "code",
   "execution_count": 4,
   "id": "e2b8b2db",
   "metadata": {},
   "outputs": [
    {
     "name": "stdout",
     "output_type": "stream",
     "text": [
      "Enter your name Ayaan\n",
      "Enter your marks 97\n",
      "You Ayaan get a A\n"
     ]
    }
   ],
   "source": [
    "name=str(input(\"Enter your name \"))\n",
    "marks=int(input(\"Enter your marks \"))\n",
    "if marks>=90:\n",
    "    print(\"You\",name,\"get a A\")\n",
    "elif marks>=80 and marks<=89:\n",
    "    print(\"You\",name,\"get a B\")\n",
    "elif marks>=70 and marks<=79:\n",
    "    print(\"You\",name,\"get a C\")\n",
    "elif marks>=60 and marks<=69:\n",
    "    print(\"You\",name,\"get a D\")\n",
    "elif marks<60:\n",
    "    print(\"You\",name,\"get a F\")\n",
    "else:\n",
    "    print(\"Enter valid marks\")"
   ]
  },
  {
   "cell_type": "code",
   "execution_count": 22,
   "id": "239fd618",
   "metadata": {},
   "outputs": [
    {
     "name": "stdout",
     "output_type": "stream",
     "text": [
      "Enter a number: 5\n",
      "1 2\n",
      "2 3\n",
      "3 4\n",
      "4 5\n",
      "5 6\n"
     ]
    }
   ],
   "source": [
    "key=int(input(\"Enter a number: \"))\n",
    "for key in range(1,key+1):\n",
    "    print(key)"
   ]
  },
  {
   "cell_type": "code",
   "execution_count": 31,
   "id": "ed462698",
   "metadata": {},
   "outputs": [
    {
     "name": "stdout",
     "output_type": "stream",
     "text": [
      "Enter a number:10\n",
      "1\n",
      "12\n",
      "123\n",
      "1234\n",
      "12345\n",
      "123456\n",
      "1234567\n",
      "12345678\n",
      "123456789\n",
      "12345678910\n"
     ]
    }
   ],
   "source": [
    "num=int(input(\"Enter a number:\"))\n",
    "for num  in range(1,num+1):\n",
    "    for num in range(1,1+num):\n",
    "        print(num,end=\"\")\n",
    "    print()"
   ]
  },
  {
   "cell_type": "code",
   "execution_count": 3,
   "id": "1663307e",
   "metadata": {},
   "outputs": [
    {
     "name": "stdout",
     "output_type": "stream",
     "text": [
      "0\n",
      "2\n",
      "4\n",
      "6\n",
      "8\n",
      "10\n",
      "12\n",
      "14\n",
      "16\n",
      "18\n",
      "20\n",
      "22\n",
      "24\n",
      "26\n",
      "28\n",
      "30\n",
      "32\n",
      "34\n",
      "36\n",
      "38\n",
      "40\n",
      "42\n",
      "44\n",
      "46\n",
      "48\n",
      "50\n",
      "52\n",
      "54\n",
      "56\n",
      "58\n",
      "60\n",
      "62\n",
      "64\n",
      "66\n",
      "68\n",
      "70\n",
      "72\n",
      "74\n",
      "76\n",
      "78\n",
      "80\n",
      "82\n",
      "84\n",
      "86\n",
      "88\n",
      "90\n",
      "92\n",
      "94\n",
      "96\n",
      "98\n",
      "100\n"
     ]
    }
   ],
   "source": [
    "for i in range(51):\n",
    "    num=(i*2)\n",
    "    print(num)"
   ]
  },
  {
   "cell_type": "code",
   "execution_count": null,
   "id": "e859363b",
   "metadata": {},
   "outputs": [],
   "source": []
  }
 ],
 "metadata": {
  "kernelspec": {
   "display_name": "Python 3 (ipykernel)",
   "language": "python",
   "name": "python3"
  },
  "language_info": {
   "codemirror_mode": {
    "name": "ipython",
    "version": 3
   },
   "file_extension": ".py",
   "mimetype": "text/x-python",
   "name": "python",
   "nbconvert_exporter": "python",
   "pygments_lexer": "ipython3",
   "version": "3.11.5"
  }
 },
 "nbformat": 4,
 "nbformat_minor": 5
}
