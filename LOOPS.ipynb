{
 "cells": [
  {
   "cell_type": "code",
   "execution_count": 1,
   "id": "5e3c5bf3",
   "metadata": {},
   "outputs": [
    {
     "name": "stdout",
     "output_type": "stream",
     "text": [
      "Welcome,SIR!\n"
     ]
    }
   ],
   "source": [
    "#JARVIS Greeting\n",
    "for i in range(1):\n",
    "    print(\"Welcome,SIR!\")"
   ]
  },
  {
   "cell_type": "code",
   "execution_count": 11,
   "id": "56756c8b",
   "metadata": {},
   "outputs": [
    {
     "name": "stdout",
     "output_type": "stream",
     "text": [
      "Iron man fired 1 times\n",
      "Iron man fired 2 times\n",
      "Iron man fired 3 times\n",
      "Iron man fired 4 times\n",
      "Iron man fired 5 times\n",
      "Iron man fired 6 times\n",
      "Iron man fired 7 times\n",
      "Iron man fired 8 times\n",
      "Iron man fired 9 times\n",
      "Iron man fired 10 times\n"
     ]
    }
   ],
   "source": [
    "#Repulsor sequence\n",
    "for blast_number in range(1,11):\n",
    "    print(\"Iron man fired\",blast_number,\"times\")\n",
    "\n"
   ]
  },
  {
   "cell_type": "code",
   "execution_count": 16,
   "id": "2187f3e5",
   "metadata": {},
   "outputs": [
    {
     "name": "stdout",
     "output_type": "stream",
     "text": [
      "['Stark Tower', 'Headquarters', 'S.H.I.E.L.D', 'Helipad', 'Home']\n",
      "Stark Tower\n",
      "11\n",
      "Headquarters\n",
      "12\n",
      "S.H.I.E.L.D\n",
      "11\n",
      "Helipad\n",
      "7\n",
      "Home\n",
      "4\n"
     ]
    }
   ],
   "source": [
    "#Flight path\n",
    "path=[\"Stark Tower\",\"Headquarters\",\"S.H.I.E.L.D\",\"Helipad\",\"Home\"]\n",
    "print(path)\n",
    "\n",
    "for location in path:\n",
    "    print(location)"
   ]
  },
  {
   "cell_type": "code",
   "execution_count": 23,
   "id": "d69de3ab",
   "metadata": {},
   "outputs": [
    {
     "name": "stdout",
     "output_type": "stream",
     "text": [
      "Initiating suit upgrade\n",
      "Upgrading in 5 seconds\n",
      "Upgrading in 4 seconds\n",
      "Upgrading in 3 seconds\n",
      "Upgrading in 2 seconds\n",
      "Upgrading in 1 seconds\n",
      "Upgrade complete\n"
     ]
    }
   ],
   "source": [
    "#Suit upgrade\n",
    "print(\"Initiating suit upgrade\")\n",
    "\n",
    "for seconds in range(5,0,-1):\n",
    "    \n",
    "    print(\"Upgrading in\",seconds,\"seconds\")\n",
    "\n",
    "print(\"Upgrade complete\")"
   ]
  },
  {
   "cell_type": "code",
   "execution_count": 31,
   "id": "0a6e7474",
   "metadata": {},
   "outputs": [
    {
     "name": "stdout",
     "output_type": "stream",
     "text": [
      "Charge level=( 0 %)\n",
      "Charge level=( 20 %)\n",
      "Charge level=( 40 %)\n",
      "Charge level=( 60 %)\n",
      "Charge level=( 80 %)\n",
      "Charge complete!\n",
      "FIRE\n"
     ]
    }
   ],
   "source": [
    "#Repulsor charge\n",
    "charge=0\n",
    "\n",
    "while charge<100:\n",
    "    print(\"Charge level=(\",charge,\"%)\")\n",
    "    charge+=20\n",
    "    \n",
    "print(\"Charge complete!\")\n",
    "print(\"FIRE\")"
   ]
  },
  {
   "cell_type": "code",
   "execution_count": 45,
   "id": "1984e5b0",
   "metadata": {},
   "outputs": [
    {
     "name": "stdout",
     "output_type": "stream",
     "text": [
      "1\n",
      "3\n",
      "5\n",
      "7\n",
      "9\n"
     ]
    }
   ],
   "source": [
    "for number in range(1,11):\n",
    "    if number % 2== 0:\n",
    "        continue\n",
    "    print(number)\n"
   ]
  },
  {
   "cell_type": "code",
   "execution_count": 48,
   "id": "8b5fd7b7",
   "metadata": {},
   "outputs": [
    {
     "name": "stdout",
     "output_type": "stream",
     "text": [
      "1\n",
      "2\n",
      "3\n",
      "4\n",
      "5\n",
      "6\n",
      "7\n"
     ]
    }
   ],
   "source": [
    "for number in range(1,11):\n",
    "    if number==8:\n",
    "        break\n",
    "    print(number)"
   ]
  },
  {
   "cell_type": "code",
   "execution_count": null,
   "id": "a27abc47",
   "metadata": {},
   "outputs": [],
   "source": []
  }
 ],
 "metadata": {
  "kernelspec": {
   "display_name": "Python 3 (ipykernel)",
   "language": "python",
   "name": "python3"
  },
  "language_info": {
   "codemirror_mode": {
    "name": "ipython",
    "version": 3
   },
   "file_extension": ".py",
   "mimetype": "text/x-python",
   "name": "python",
   "nbconvert_exporter": "python",
   "pygments_lexer": "ipython3",
   "version": "3.11.5"
  }
 },
 "nbformat": 4,
 "nbformat_minor": 5
}
